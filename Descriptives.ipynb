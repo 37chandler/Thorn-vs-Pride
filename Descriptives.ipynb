{
 "cells": [
  {
   "cell_type": "code",
   "execution_count": null,
   "metadata": {},
   "outputs": [],
   "source": [
    "# Set up\n",
    "import numpy as np\n",
    "\n",
    "from string import punctuation\n",
    "from collections import Counter\n",
    "\n",
    "from nltk.corpus import stopwords\n",
    "\n",
    "sw = stopwords.words('english')"
   ]
  },
  {
   "cell_type": "code",
   "execution_count": null,
   "metadata": {},
   "outputs": [],
   "source": [
    "# Descriptive Stats - THORNS\n",
    "\n",
    "def get_patterns(text)  :\n",
    "\n",
    "    text_clean = text.lower().split()# split on whitespace, shift to lowercase\n",
    "    \n",
    "    text_clean = [w for w in text_clean if w.isalpha() and w not in sw]\n",
    "\n",
    "            \n",
    "# Descriptives\n",
    "    total_tokens = len(text_clean)\n",
    "\n",
    "    unique_tokens = len(set(text_clean))\n",
    "\n",
    "    text_token_len = [len(w) for w in text_clean]\n",
    "    avg_token_len = np.mean(text_token_len)\n",
    "\n",
    "    lex_diversity = len(set(text_clean))/len(text_clean)\n",
    "\n",
    "    text_counter = Counter(text_clean)\n",
    "    top_10 = text_counter.most_common(10)\n",
    "\n",
    "    # Fill in results dictionary\n",
    "    results = {'tokens':total_tokens,\n",
    "               'unique_tokens':unique_tokens,\n",
    "               'avg_token_length':avg_token_len,\n",
    "               'lexical_diversity':lex_diversity,\n",
    "               'top_10':top_10}\n",
    "        \n",
    "    return results "
   ]
  },
  {
   "cell_type": "code",
   "execution_count": null,
   "metadata": {},
   "outputs": [],
   "source": [
    "# read in text file - THORNS\n",
    "thorns = open(\"ThornsFC_followers copy.txt\",'r').read()\n",
    "\n",
    "thorns_results = get_patterns(thorns) # call back to function using thorns text\n",
    "print(thorns_results) # results"
   ]
  },
  {
   "cell_type": "code",
   "execution_count": null,
   "metadata": {},
   "outputs": [],
   "source": [
    "# Descriptive Stats - PRIDE\n",
    "\n",
    "def get_patterns(text)  :\n",
    "\n",
    "    text_clean = text.lower().split()# split on whitespace, shift to lowercase\n",
    "    \n",
    "    text_clean = [w for w in text_clean if w.isalpha() and w not in sw]\n",
    "\n",
    "            \n",
    "# Descriptives\n",
    "    total_tokens = len(text_clean)\n",
    "\n",
    "    unique_tokens = len(set(text_clean))\n",
    "\n",
    "    text_token_len = [len(w) for w in text_clean]\n",
    "    avg_token_len = np.mean(text_token_len)\n",
    "\n",
    "    lex_diversity = len(set(text_clean))/len(text_clean)\n",
    "\n",
    "    text_counter = Counter(text_clean)\n",
    "    top_10 = text_counter.most_common(10)\n",
    "\n",
    "    # Fill in results dictionary\n",
    "    results = {'tokens':total_tokens,\n",
    "               'unique_tokens':unique_tokens,\n",
    "               'avg_token_length':avg_token_len,\n",
    "               'lexical_diversity':lex_diversity,\n",
    "               'top_10':top_10}\n",
    "        \n",
    "    return results "
   ]
  },
  {
   "cell_type": "code",
   "execution_count": null,
   "metadata": {},
   "outputs": [],
   "source": [
    "# read in text file - PRIDE\n",
    "pride = open(\"ORLPride_followers copy.txt\",'r').read()\n",
    "\n",
    "pride_results = get_patterns(pride) # call back to function using thorns text\n",
    "print(pride_results) # results"
   ]
  }
 ],
 "metadata": {
  "kernelspec": {
   "display_name": "Python 3",
   "language": "python",
   "name": "python3"
  },
  "language_info": {
   "codemirror_mode": {
    "name": "ipython",
    "version": 3
   },
   "file_extension": ".py",
   "mimetype": "text/x-python",
   "name": "python",
   "nbconvert_exporter": "python",
   "pygments_lexer": "ipython3",
   "version": "3.8.3"
  }
 },
 "nbformat": 4,
 "nbformat_minor": 4
}
